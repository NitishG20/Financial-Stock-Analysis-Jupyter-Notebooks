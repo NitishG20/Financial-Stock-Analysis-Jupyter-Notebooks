{
 "cells": [
  {
   "cell_type": "markdown",
   "metadata": {},
   "source": [
    "# Module 3- Regression & Beta Calculation\n",
    "\n"
   ]
  },
  {
   "cell_type": "markdown",
   "metadata": {},
   "source": [
    "   ### Welcome to the Answer notebook for Module 3 ! \n",
    "Make sure that you've submitted the module 2 notebook and unlocked Module 3 yourself before you start coding here\n"
   ]
  },
  {
   "cell_type": "markdown",
   "metadata": {},
   "source": [
    "#--------------------------------------------------------------------------------------------------------------------------------------------------------------------------------------------------------#"
   ]
  },
  {
   "cell_type": "markdown",
   "metadata": {},
   "source": [
    "### Query 3.1 \n",
    "Import the file 'gold.csv', which is contains the data about last 2 years price action of Indian(MCX) gold standard. Explore the dataframe. You'd see 2 unique columns - 'Pred' and 'new'.\n",
    "\n",
    "One of the 2 columns is a linear combination of the OHLC prices with varying coefficients while the other is a polynomial fucntion of the same inputs. Also, one of the 2 columns is partially filled.\n",
    "\n",
    ">Using linear regression, find the coefficients of the inputs and using the same trained model, complete the\n",
    "      entire column.\n",
    "      \n",
    ">Also, try to fit the other column as well using a new linear regression model. Check if the predicitons are \n",
    "      accurate.\n",
    "      Mention which column is a linear function and which is a polynomial function.\n",
    "      (Hint: Plotting a histogram & distplot helps in recognizing the  discrepencies in prediction, if any.)"
   ]
  },
  {
   "cell_type": "code",
   "execution_count": 1,
   "metadata": {},
   "outputs": [
    {
     "name": "stdout",
     "output_type": "stream",
     "text": [
      "Fitting a linear model on Pred column\n",
      "Mean Squared Error=0.00000\n",
      "Error%=0.00000%\n",
      "\n",
      "The coefficients are  [ 2.  3. -1. -4.]\n",
      "\n",
      "\n",
      "\n",
      "Applying Polynomial Regression on 'new' Column:\n",
      "Mean Squared Error=0.00024\n",
      "Error%=0.00000%\n",
      "\n",
      "\n",
      "\tTherefore \"Pred\" column in the linear combination of the inputs and \"new\" is polynomial combination\n"
     ]
    },
    {
     "name": "stderr",
     "output_type": "stream",
     "text": [
      "/opt/anaconda/lib/python3.6/site-packages/sklearn/cross_validation.py:41: DeprecationWarning: This module was deprecated in version 0.18 in favor of the model_selection module into which all the refactored classes and functions are moved. Also note that the interface of the new CV iterators are different from that of this module. This module will be removed in 0.20.\n",
      "  \"This module will be removed in 0.20.\", DeprecationWarning)\n"
     ]
    }
   ],
   "source": [
    "# Importing the libraries\n",
    "import numpy as np\n",
    "import matplotlib.pyplot as plt\n",
    "import pandas as pd\n",
    "\n",
    "\n",
    "#Preparing dataset\n",
    "df = pd.read_csv('GOLD.csv')\n",
    "df.describe()\n",
    "train=df[df['Pred']==df['Pred']]\n",
    "test=df[df['Pred']!=df['Pred']]\n",
    "# print(train.describe())\n",
    "xtrain=train.iloc[:, 1:5].values\n",
    "y1train=train.iloc[:, -2].values\n",
    "# print(xtrain)\n",
    "xtest=test.iloc[:, 1:5].values\n",
    "y1test=test.iloc[:, -2].values\n",
    "\n",
    "# print(df.iloc[:411, 8:].describe)\n",
    "\n",
    "print(\"Fitting a linear model on Pred column\")\n",
    "# Fitting Multiple Linear Regression to the Training set\n",
    "from sklearn.linear_model import LinearRegression\n",
    "regressor = LinearRegression()\n",
    "regressor.fit(xtrain, y1train)\n",
    "\n",
    "\n",
    "#Checking if 'pred' is linear combination of OHLC\n",
    "from sklearn.metrics import mean_squared_error\n",
    "ytest=regressor.predict(xtrain)\n",
    "mse = mean_squared_error(ytest, y1train)\n",
    "print('Mean Squared Error=%5.5f'%(mse))\n",
    "error=(100*mse)/(np.average(np.average(xtrain)))\n",
    "print('Error%%=%5.5f%%'%(error))\n",
    "\n",
    "\n",
    "print(\"\\nThe coefficients are \", regressor.coef_)\n",
    "\n",
    "#Filling the columns with missing Pred values\n",
    "ypred=regressor.predict(xtest)\n",
    "df.iloc[411:, 7]=ypred\n",
    "\n",
    "\n",
    "\n",
    "#Polynomial Regression on new\n",
    "X = df.iloc[:, 1:5].values\n",
    "y = df.iloc[:, -1].values\n",
    "\n",
    "# Splitting the dataset into the Training set and Test set\n",
    "from sklearn.cross_validation import train_test_split\n",
    "X_train, X_test, y_train, y_test = train_test_split(X, y, test_size = 0.3, random_state = 0)\n",
    "\n",
    "\n",
    "# Fitting Polynomial Regression to the dataset\n",
    "\n",
    "print(\"\\n\\n\\nApplying Polynomial Regression on 'new' Column:\")\n",
    "from sklearn.preprocessing import PolynomialFeatures\n",
    "poly_reg = PolynomialFeatures(degree = 2)\n",
    "X_poly = poly_reg.fit_transform(X)\n",
    "poly_reg.fit(X_poly, y)\n",
    "reg = LinearRegression()\n",
    "reg.fit(X_poly, y)\n",
    "\n",
    "mse=mean_squared_error(y_test, reg.predict(poly_reg.fit_transform(X_test)))\n",
    "print('Mean Squared Error=%5.5f'%(mse))\n",
    "error=(100*mse)/(np.average(np.average(xtrain)))\n",
    "print('Error%%=%5.5f%%'%(error))\n",
    "\n",
    "print('\\n\\n\\tTherefore \"Pred\" column in the linear combination of the inputs and \"new\" is polynomial combination')\n",
    "\n"
   ]
  },
  {
   "cell_type": "markdown",
   "metadata": {},
   "source": [
    "### Query 3.2\n",
    "Import the stock of your choosing AND the Nifty index. \n",
    "Using linear regression (OLS), calculate -\n",
    "\n",
    "The daily Beta value for the past 3 months. (Daily= Daily returns)\n",
    "\n",
    "The monthly Beta value. (Monthly= Monthly returns)\n",
    "\n",
    "\n",
    "Refrain from using the (covariance(x,y)/variance(x)) formula. \n",
    "Attempt the question using regression.(Regression Reference) \n",
    "Were the Beta values more or less than 1 ? What if it was negative ? \n",
    "Discuss. Include a brief writeup in the bottom of your jupyter notebook with your inferences from the Beta values and regression results"
   ]
  },
  {
   "cell_type": "code",
   "execution_count": 2,
   "metadata": {},
   "outputs": [],
   "source": [
    "nifty50=pd.read_csv('Nifty50.csv')\n",
    "infy= pd.read_csv('INFY.csv')\n",
    "df=pd.concat((nifty50['Close'], infy['Close Price']), axis=1)\n",
    "df.columns=['Nifty', 'Infy']\n",
    "daily=df.loc[495-63:, :].pct_change(1)\n",
    "daily=daily.dropna()\n",
    "\n",
    "monthly=df.pct_change(21)\n",
    "monthly=monthly.dropna()\n",
    "monthly=monthly.loc[::21,:]"
   ]
  },
  {
   "cell_type": "code",
   "execution_count": 3,
   "metadata": {},
   "outputs": [
    {
     "name": "stdout",
     "output_type": "stream",
     "text": [
      "The daily Beta value for the past 3 months. (Daily= Daily returns) = 0.2236\n"
     ]
    },
    {
     "data": {
      "image/png": "[encoded data removed]",
      "text/plain": [
       "<Figure size 432x288 with 1 Axes>"
      ]
     },
     "metadata": {},
     "output_type": "display_data"
    }
   ],
   "source": [
    "from sklearn.linear_model import LinearRegression\n",
    "\n",
    "reg = LinearRegression()\n",
    "X = daily.iloc[:, :-1].values\n",
    "y = daily.iloc[:, 1].values\n",
    "reg.fit(X,y )\n",
    "\n",
    "#The slope of the regression line is the value of Beta\n",
    "print(\"The daily Beta value for the past 3 months. (Daily= Daily returns) = %2.4f\"%(reg.coef_[0]))\n",
    "\n",
    "plt.grid()\n",
    "plt.scatter(X, y, color = 'red')\n",
    "plt.plot(X, reg.predict(X), color = 'blue')\n",
    "plt.xlim(-0.03, 0.03)\n",
    "plt.ylim(-0.03, 0.03)\n",
    "plt.gca().set_aspect('equal', adjustable='box')\n",
    "plt.title('Infy vs Nifty ')\n",
    "plt.xlabel('Nifty')\n",
    "plt.ylabel('Infy')\n",
    "plt.show()"
   ]
  },
  {
   "cell_type": "code",
   "execution_count": 4,
   "metadata": {},
   "outputs": [
    {
     "name": "stdout",
     "output_type": "stream",
     "text": [
      "The monthly Beta value. (Monthly= Monthly returns) = 0.5448\n"
     ]
    },
    {
     "data": {
      "image/png": "[encoded data removed]",
      "text/plain": [
       "<Figure size 1440x720 with 1 Axes>"
      ]
     },
     "metadata": {},
     "output_type": "display_data"
    }
   ],
   "source": [
    "from sklearn.linear_model import LinearRegression\n",
    "\n",
    "reg = LinearRegression()\n",
    "X = monthly.iloc[:, :-1].values\n",
    "y = monthly.iloc[:, 1].values\n",
    "reg.fit(X,y )\n",
    "\n",
    "#The slope of the regression line is the value of Beta\n",
    "print(\"The monthly Beta value. (Monthly= Monthly returns) = %2.4f\"%(reg.coef_[0]))\n",
    "\n",
    "plt.figure(figsize=(20,10))\n",
    "plt.grid()\n",
    "plt.scatter(X, y, color = 'red')\n",
    "plt.plot(X, reg.predict(X), color = 'blue')\n",
    "# plt.xlim(-0.03, 0.03)\n",
    "# plt.ylim(-0.03, 0.03)\n",
    "# plt.gca().set_aspect('equal', adjustable='box')\n",
    "plt.title('Infy vs Nifty ')\n",
    "plt.xlabel('Nifty')\n",
    "plt.ylabel('Infy')\n",
    "plt.show()"
   ]
  },
  {
   "cell_type": "markdown",
   "metadata": {},
   "source": [
    "## Inference\n",
    "The Beta value affects the overall rise or fall of the stock prices. The large cap stocks have Beta values closer to 1 while the smaller cap stocks have Beta values farther from 1. Negative Beta value will mean a stock opposes the current trend of market which is less likely hence does not occur."
   ]
  }
 ],
 "metadata": {
  "kernelspec": {
   "display_name": "Python 3",
   "language": "python",
   "name": "python3"
  },
  "language_info": {
   "codemirror_mode": {
    "name": "ipython",
    "version": 3
   },
   "file_extension": ".py",
   "mimetype": "text/x-python",
   "name": "python",
   "nbconvert_exporter": "python",
   "pygments_lexer": "ipython3",
   "version": "3.6.5"
  }
 },
 "nbformat": 4,
 "nbformat_minor": 2
}
